{
 "cells": [
  {
   "cell_type": "code",
   "execution_count": 3,
   "id": "d30add14-919a-446b-9b09-954a1352271b",
   "metadata": {
    "tags": []
   },
   "outputs": [],
   "source": [
    "import pandas as pd\n",
    "import seaborn as sns\n",
    "import matplotlib.pyplot as plt\n",
    "\n",
    "df = pd.read_excel('../data/dmr.xlsx')\n",
    "df['high_impact'] = df['number_of_fatalities'].apply(lambda x: 0 if x == 1 else 1)\n",
    "\n",
    "# Using Decision Tree and Logistic Regression \n",
    "from sklearn.model_selection import train_test_split\n",
    "from sklearn.tree import DecisionTreeClassifier\n",
    "from sklearn.linear_model import LogisticRegression\n",
    "from sklearn.metrics import accuracy_score, classification_report\n",
    "\n",
    "target = df['high_impact']\n",
    "\n",
    "df.drop(['high_impact', 'number_of_fatalities'], axis = 1, inplace = True)\n",
    "\n",
    "features_column = ['type','month', 'day', 'hour', 'time', 'speeding', 'ran_red_light', 'dl_status', 'suspected_impairment',\n",
    "       'restraint_type', 'type_of_road', 'ftsra']\n",
    "\n",
    "features = df[features_column]\n",
    "\n",
    "features = pd.get_dummies(features)\n"
   ]
  },
  {
   "cell_type": "code",
   "execution_count": 4,
   "id": "81b87b49-ae1e-4f42-8788-9e8b5c0ab7b0",
   "metadata": {},
   "outputs": [
    {
     "name": "stdout",
     "output_type": "stream",
     "text": [
      "Decision Tree Accuracy: 0.9532710280373832\n",
      "Decision Tree Classification Report:\n",
      "               precision    recall  f1-score   support\n",
      "\n",
      "           0       0.95      1.00      0.98       101\n",
      "           1       1.00      0.17      0.29         6\n",
      "\n",
      "    accuracy                           0.95       107\n",
      "   macro avg       0.98      0.58      0.63       107\n",
      "weighted avg       0.96      0.95      0.94       107\n",
      "\n",
      "Logistic Regression Accuracy: 0.9345794392523364\n",
      "Logistic Regression Classification Report:\n",
      "               precision    recall  f1-score   support\n",
      "\n",
      "           0       0.94      0.99      0.97       101\n",
      "           1       0.00      0.00      0.00         6\n",
      "\n",
      "    accuracy                           0.93       107\n",
      "   macro avg       0.47      0.50      0.48       107\n",
      "weighted avg       0.89      0.93      0.91       107\n",
      "\n"
     ]
    }
   ],
   "source": [
    "\n",
    "# Assuming 'target' is the target variable you want to predict\n",
    "\n",
    "# Split the data into training and testing sets\n",
    "X_train, X_test, y_train, y_test = train_test_split(features, target, test_size=0.2, random_state=42)\n",
    "\n",
    "# Decision Tree\n",
    "dt_model = DecisionTreeClassifier()\n",
    "dt_model.fit(X_train, y_train)\n",
    "dt_predictions = dt_model.predict(X_test)\n",
    "dt_accuracy = accuracy_score(y_test, dt_predictions)\n",
    "print(\"Decision Tree Accuracy:\", dt_accuracy)\n",
    "print(\"Decision Tree Classification Report:\\n\", classification_report(y_test, dt_predictions))\n",
    "\n",
    "# Logistic Regression\n",
    "lr_model = LogisticRegression()\n",
    "lr_model.fit(X_train, y_train)\n",
    "lr_predictions = lr_model.predict(X_test)\n",
    "lr_accuracy = accuracy_score(y_test, lr_predictions)\n",
    "print(\"Logistic Regression Accuracy:\", lr_accuracy)\n",
    "print(\"Logistic Regression Classification Report:\\n\", classification_report(y_test, lr_predictions))\n"
   ]
  },
  {
   "cell_type": "code",
   "execution_count": 9,
   "id": "6c4e17bd-a326-426f-a89a-7aa2ca5ceaa4",
   "metadata": {},
   "outputs": [
    {
     "data": {
      "image/png": "[encoded data removed]",
      "text/plain": [
       "<Figure size 576x432 with 2 Axes>"
      ]
     },
     "metadata": {
      "needs_background": "light"
     },
     "output_type": "display_data"
    },
    {
     "data": {
      "image/png": "[encoded data removed]",
      "text/plain": [
       "<Figure size 576x432 with 2 Axes>"
      ]
     },
     "metadata": {
      "needs_background": "light"
     },
     "output_type": "display_data"
    }
   ],
   "source": [
    "from sklearn.metrics import confusion_matrix\n",
    "\n",
    "# Confusion Matrix and Heatmap for Decision Tree\n",
    "dt_cm = confusion_matrix(y_test, dt_predictions)\n",
    "plt.figure(figsize=(8, 6))\n",
    "sns.heatmap(dt_cm, annot=True, fmt='d', cmap='Blues', xticklabels=['Not High Impact', 'High Impact'], yticklabels=['Not High Impact', 'High Impact'])\n",
    "plt.title('Decision Tree Confusion Matrix')\n",
    "plt.xlabel('Predicted')\n",
    "plt.ylabel('Actual')\n",
    "plt.show()\n",
    "\n",
    "# Confusion Matrix and Heatmap for Logistic Regression\n",
    "lr_cm = confusion_matrix(y_test, lr_predictions)\n",
    "plt.figure(figsize=(8, 6))\n",
    "sns.heatmap(lr_cm, annot=True, fmt='d', cmap='Blues', xticklabels=['Not High Impact', 'High Impact'], yticklabels=['Not High Impact', 'High Impact'])\n",
    "plt.title('Logistic Regression Confusion Matrix')\n",
    "plt.xlabel('Predicted')\n",
    "plt.ylabel('Actual')\n",
    "plt.show()\n"
   ]
  },
  {
   "cell_type": "code",
   "execution_count": 13,
   "id": "58cfd64b-a897-4d33-b53e-85cd1d716b61",
   "metadata": {},
   "outputs": [
    {
     "name": "stderr",
     "output_type": "stream",
     "text": [
      "/Users/thangtruong/opt/anaconda3/lib/python3.9/site-packages/sklearn/base.py:464: UserWarning: X does not have valid feature names, but DecisionTreeClassifier was fitted with feature names\n",
      "  warnings.warn(\n"
     ]
    },
    {
     "name": "stdout",
     "output_type": "stream",
     "text": [
      "Decision Tree Top 5 Features Explanation:\n",
      "time_22:21:00 <= 0.00: -0.930720515131178\n",
      "time_19:31:00 <= 0.00: -0.9245393898034062\n",
      "time_22:01:00 <= 0.00: -0.9047940787307089\n",
      "suspected_impairment_both PEDs <= 0.00: -0.8941100661397572\n",
      "time_23:25:00 <= 0.00: -0.8868106842168973\n",
      "\n",
      "Logistic Regression Top 5 Features Explanation:\n",
      "month_apr <= 0.00: -0.03249925974717301\n",
      "restraint_type_seatbelt worn <= 0.00: -0.030774671440317827\n",
      "suspected_impairment_both PEDs <= 0.00: -0.029228161988243892\n",
      "time_02:36:00 <= 0.00: -0.027315172891091238\n",
      "time_22:21:00 <= 0.00: -0.026433834731611094\n"
     ]
    },
    {
     "name": "stderr",
     "output_type": "stream",
     "text": [
      "/Users/thangtruong/opt/anaconda3/lib/python3.9/site-packages/sklearn/base.py:464: UserWarning: X does not have valid feature names, but LogisticRegression was fitted with feature names\n",
      "  warnings.warn(\n"
     ]
    }
   ],
   "source": [
    "from lime import lime_tabular\n",
    "from lime.lime_tabular import LimeTabularExplainer\n",
    "\n",
    "# Assuming features_column is a list of feature names\n",
    "feature_names = features.columns.tolist()\n",
    "\n",
    "# Lime Interpretabilities for what features are the most important\n",
    "explainer = LimeTabularExplainer(X_train.values, feature_names=feature_names, class_names=['0', '1'], discretize_continuous=True)\n",
    "\n",
    "# Choose a specific instance for explanation\n",
    "instance_to_explain = X_test.iloc[0]\n",
    "\n",
    "# Explain Decision Tree prediction\n",
    "dt_exp = explainer.explain_instance(instance_to_explain.values, dt_model.predict_proba, num_features=len(feature_names))\n",
    "dt_exp_top_features = dt_exp.as_list()[:5]  # Extract the top 5 features\n",
    "print(\"Decision Tree Top 5 Features Explanation:\")\n",
    "for feature, weight in dt_exp_top_features:\n",
    "    print(f\"{feature}: {weight}\")\n",
    "\n",
    "# Explain Logistic Regression prediction\n",
    "lr_exp = explainer.explain_instance(instance_to_explain.values, lr_model.predict_proba, num_features=len(feature_names))\n",
    "lr_exp_top_features = lr_exp.as_list()[:5]  # Extract the top 5 features\n",
    "print(\"\\nLogistic Regression Top 5 Features Explanation:\")\n",
    "for feature, weight in lr_exp_top_features:\n",
    "    print(f\"{feature}: {weight}\")\n"
   ]
  },
  {
   "cell_type": "code",
   "execution_count": null,
   "id": "d1ad18fa-b43e-4e5b-a44f-5ee1c8fd1807",
   "metadata": {},
   "outputs": [],
   "source": []
  },
  {
   "cell_type": "code",
   "execution_count": null,
   "id": "5e3012b7-a051-4322-9cbf-a9aa7318817d",
   "metadata": {},
   "outputs": [],
   "source": []
  },
  {
   "cell_type": "code",
   "execution_count": null,
   "id": "099c598e-7f93-41eb-b820-ad33d846645f",
   "metadata": {},
   "outputs": [],
   "source": []
  }
 ],
 "metadata": {
  "kernelspec": {
   "display_name": "Python 3 (ipykernel)",
   "language": "python",
   "name": "python3"
  },
  "language_info": {
   "codemirror_mode": {
    "name": "ipython",
    "version": 3
   },
   "file_extension": ".py",
   "mimetype": "text/x-python",
   "name": "python",
   "nbconvert_exporter": "python",
   "pygments_lexer": "ipython3",
   "version": "3.9.12"
  }
 },
 "nbformat": 4,
 "nbformat_minor": 5
}
